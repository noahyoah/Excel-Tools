{
 "cells": [
  {
   "cell_type": "code",
   "execution_count": 1,
   "metadata": {},
   "outputs": [
    {
     "name": "stdout",
     "output_type": "stream",
     "text": [
      "THIS IT?: c:\\Users\\heacoxn\\Desktop\\Python Project\\Projects\\Data in Master File, not covered in Database\n"
     ]
    },
    {
     "name": "stderr",
     "output_type": "stream",
     "text": [
      "C:\\Users\\heacoxn\\AppData\\Local\\Temp/ipykernel_15172/967331002.py:72: FutureWarning: In a future version of pandas all arguments of DataFrame.drop except for the argument 'labels' will be keyword-only\n",
      "  df_master = df_master.merge(df_database, how='outer', indicator = True).query('_merge == \"left_only\"').drop('_merge',1)\n"
     ]
    },
    {
     "name": "stdout",
     "output_type": "stream",
     "text": [
      "              Part_Number    Eng_Part_Name\n",
      "4692  А14.000.00 yoyoyoyo  SPARE COVERALLS\n"
     ]
    },
    {
     "name": "stderr",
     "output_type": "stream",
     "text": [
      "C:\\Users\\heacoxn\\AppData\\Local\\Temp/ipykernel_15172/967331002.py:76: FutureWarning: In a future version of pandas all arguments of DataFrame.drop except for the argument 'labels' will be keyword-only\n",
      "  df_master.merge(df_database, how='outer', indicator = True).query('_merge == \"left_only\"').drop('_merge',1) ###This line is the data merging moneymaker\n"
     ]
    }
   ],
   "source": [
    "### This is the original code in its original location\n",
    "### THIS IS THE FINAL WORKING CODE\n",
    "### Good job dude, you should have been counting the hours you spend on this thing, it was way too many.\n",
    "import pandas as pd\n",
    "import numpy as np\n",
    "import os as os\n",
    "\n",
    "code_file_path = os.getcwd()\n",
    "print(\"THIS IT?:\", code_file_path)\n",
    "\n",
    "database_folder_path = (f'{code_file_path}\\\\database') ###FIGURE OUT HOW TO CREATE FILE PATHS TO WHERE THE PROGRAM IS LOCATED SO THE CODE DOESNT HAVE TO BE CHANGED FOR EACH NEW LOCATION\n",
    "master_folder_path = (f'{code_file_path}')\n",
    "\n",
    "\n",
    "df_database = pd.DataFrame()\n",
    "database_files = os.listdir(database_folder_path)\n",
    "\n",
    "\n",
    "df_master = pd.DataFrame()\n",
    "master_file = os.listdir(master_folder_path)\n",
    "\n",
    "\n",
    "df = pd.DataFrame()\n",
    "\n",
    "\n",
    "for file in database_files:\n",
    "    if file.endswith(\".xlsx\"):\n",
    "        excel_database = pd.ExcelFile(f'{database_folder_path}/{file}')\n",
    "        sheets = excel_database.sheet_names\n",
    "        for sheet in sheets:\n",
    "            df = excel_database.parse(sheet_name = sheet)\n",
    "            df_database = df_database.append(df)\n",
    "\n",
    "for file in master_file:\n",
    "    if file == \"NewIDRD.xlsx\": ### FIGURE OUT HOW TO MAKE THE FILE IT SELECTS MORE ARBRITRARY. USE FILE.ENDSWITH(\".XLSX\") AND IS THE NEWEST FILE IN THE FOLDER AND =! \"Missing Data\".\n",
    "        excel_master = pd.ExcelFile(f'{master_folder_path}/{file}')\n",
    "        sheets = excel_master.sheet_names\n",
    "        for sheet in sheets:\n",
    "            df = excel_master.parse(sheet_name = sheet)\n",
    "            df_master = df_master.append(df)\n",
    "            \n",
    "\n",
    "df_database.rename(columns={'Unnamed: 11':'Part_Number','Unnamed: 13':'Eng_Part_Name'},\n",
    "inplace=True)\n",
    "df_master.rename(columns={'Unnamed: 11':'Part_Number','Unnamed: 13':'Eng_Part_Name'},\n",
    "inplace=True)\n",
    "\n",
    "\n",
    "df_database = df_database.drop(labels=[\n",
    "             'Unnamed: 0' ,'Unnamed: 1' ,'Unnamed: 2' ,'Unnamed: 3' ,'Unnamed: 4' ,'Unnamed: 5' ,'Unnamed: 6' ,'Unnamed: 7' ,'Unnamed: 8' ,'Unnamed: 9', 'Unnamed: 10','Unnamed: 12'\n",
    "            ,'Unnamed: 14','Unnamed: 15','Unnamed: 16','Unnamed: 17','Unnamed: 18','Unnamed: 19','Unnamed: 20','Unnamed: 21','Unnamed: 22','Unnamed: 23'\n",
    "            ,'Unnamed: 24','Unnamed: 25','Unnamed: 26','Unnamed: 27','Unnamed: 28','Unnamed: 29','Unnamed: 30','Unnamed: 31','Unnamed: 32','Unnamed: 33'\n",
    "            ,'Unnamed: 34','Unnamed: 35','Unnamed: 36'], axis=1)\n",
    "\n",
    "df_master = df_master.drop(labels=[\n",
    "             'Unnamed: 0' ,'Unnamed: 1' ,'Unnamed: 2' ,'Unnamed: 3' ,'Unnamed: 4' ,'Unnamed: 5','Unnamed: 6' ,'Unnamed: 6' ,'Unnamed: 7' ,'Unnamed: 8','Unnamed: 9', 'Unnamed: 10','Unnamed: 12'\n",
    "            ,'Unnamed: 14','Unnamed: 15','Unnamed: 16','Unnamed: 17','Unnamed: 18','Unnamed: 19','Unnamed: 20','Unnamed: 21','Unnamed: 22','Unnamed: 23'\n",
    "            ,'Unnamed: 24','Unnamed: 25','Unnamed: 26','Unnamed: 27','Unnamed: 28','Unnamed: 29','Unnamed: 30','Unnamed: 31','Unnamed: 32','Unnamed: 33'\n",
    "            ,'Unnamed: 34','Unnamed: 35','Unnamed: 36'], axis=1)\n",
    "\n",
    "\n",
    "strip_database = df_database.select_dtypes(['object']).columns\n",
    "df_database[strip_database] = df_database[strip_database].apply(lambda x: x.str.strip())\n",
    "\n",
    "strip_master = df_master.select_dtypes(['object']).columns\n",
    "df_master[strip_master] = df_master[strip_master].apply(lambda x: x.str.strip())\n",
    "\n",
    "\n",
    "\n",
    "\n",
    "\n",
    "df_master = df_master.merge(df_database, how='outer', indicator = True).query('_merge == \"left_only\"').drop('_merge',1)\n",
    "\n",
    "df_master.to_excel (f'{master_folder_path}/Data in Master File, not covered in database.xlsx')\n",
    "\n",
    "df_master.merge(df_database, how='outer', indicator = True).query('_merge == \"left_only\"').drop('_merge',1) ###This line is the data merging moneymaker\n",
    "\n",
    "print(df_master)\n",
    "\n"
   ]
  },
  {
   "cell_type": "code",
   "execution_count": null,
   "metadata": {},
   "outputs": [],
   "source": []
  }
 ],
 "metadata": {
  "interpreter": {
   "hash": "ad795bcf9d6b21f8bc8cd496d44978580406b0af423e181a0febd4e919033213"
  },
  "kernelspec": {
   "display_name": "Python 3.10.0 64-bit",
   "language": "python",
   "name": "python3"
  },
  "language_info": {
   "codemirror_mode": {
    "name": "ipython",
    "version": 3
   },
   "file_extension": ".py",
   "mimetype": "text/x-python",
   "name": "python",
   "nbconvert_exporter": "python",
   "pygments_lexer": "ipython3",
   "version": "3.10.0"
  },
  "orig_nbformat": 4
 },
 "nbformat": 4,
 "nbformat_minor": 2
}
